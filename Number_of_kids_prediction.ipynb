{
  "nbformat": 4,
  "nbformat_minor": 0,
  "metadata": {
    "colab": {
      "name": "Number of kids prediction.ipynb",
      "provenance": [],
      "collapsed_sections": [],
      "authorship_tag": "ABX9TyOEQ34bzDmN7bL1diAdnvqn",
      "include_colab_link": true
    },
    "kernelspec": {
      "name": "python3",
      "display_name": "Python 3"
    },
    "language_info": {
      "name": "python"
    }
  },
  "cells": [
    {
      "cell_type": "markdown",
      "metadata": {
        "id": "view-in-github",
        "colab_type": "text"
      },
      "source": [
        "<a href=\"https://colab.research.google.com/github/yinghe9999/Machine-Learning/blob/main/Number_of_kids_prediction.ipynb\" target=\"_parent\"><img src=\"https://colab.research.google.com/assets/colab-badge.svg\" alt=\"Open In Colab\"/></a>"
      ]
    },
    {
      "cell_type": "code",
      "metadata": {
        "id": "QBWcWrF7y2-n",
        "colab": {
          "base_uri": "https://localhost:8080/"
        },
        "outputId": "2e6f7950-8700-4b08-9a7b-b6ff3c197b6b"
      },
      "source": [
        "from google.colab import drive\n",
        "drive.mount('/content/drive')"
      ],
      "execution_count": 10,
      "outputs": [
        {
          "output_type": "stream",
          "text": [
            "Mounted at /content/drive\n"
          ],
          "name": "stdout"
        }
      ]
    },
    {
      "cell_type": "markdown",
      "metadata": {
        "id": "DvG4RqkVzkf6"
      },
      "source": [
        "0.1    Importing necessary libraries\n"
      ]
    },
    {
      "cell_type": "code",
      "metadata": {
        "id": "VnhtEwR9znsM"
      },
      "source": [
        "import numpy as np\n",
        "import pandas as pd"
      ],
      "execution_count": 11,
      "outputs": []
    },
    {
      "cell_type": "markdown",
      "metadata": {
        "id": "YmpLpIbnz9gb"
      },
      "source": [
        " 0.2    Reading the data"
      ]
    },
    {
      "cell_type": "code",
      "metadata": {
        "id": "LLOKFo9kz_Z4"
      },
      "source": [
        " data = pd.read_csv(\"/content/drive/MyDrive/Colab Notebooks/data.csv\")"
      ],
      "execution_count": 13,
      "outputs": []
    },
    {
      "cell_type": "markdown",
      "metadata": {
        "id": "6TsS8QHb0JlD"
      },
      "source": [
        "0.3    Describing the data"
      ]
    },
    {
      "cell_type": "code",
      "metadata": {
        "id": "5cM7SmFw0MNv",
        "colab": {
          "base_uri": "https://localhost:8080/",
          "height": 173
        },
        "outputId": "472df274-b8a0-4a6f-936e-3ed5c6c852cb"
      },
      "source": [
        "data.head()"
      ],
      "execution_count": 14,
      "outputs": [
        {
          "output_type": "execute_result",
          "data": {
            "text/html": [
              "<div>\n",
              "<style scoped>\n",
              "    .dataframe tbody tr th:only-of-type {\n",
              "        vertical-align: middle;\n",
              "    }\n",
              "\n",
              "    .dataframe tbody tr th {\n",
              "        vertical-align: top;\n",
              "    }\n",
              "\n",
              "    .dataframe thead th {\n",
              "        text-align: right;\n",
              "    }\n",
              "</style>\n",
              "<table border=\"1\" class=\"dataframe\">\n",
              "  <thead>\n",
              "    <tr style=\"text-align: right;\">\n",
              "      <th></th>\n",
              "      <th>Number of Kids</th>\n",
              "      <th>Working Experience(years)</th>\n",
              "      <th>Age</th>\n",
              "      <th>Salary</th>\n",
              "      <th>Blood Types</th>\n",
              "    </tr>\n",
              "  </thead>\n",
              "  <tbody>\n",
              "    <tr>\n",
              "      <th>0</th>\n",
              "      <td>3</td>\n",
              "      <td>15.0</td>\n",
              "      <td>45</td>\n",
              "      <td>250000</td>\n",
              "      <td>A</td>\n",
              "    </tr>\n",
              "    <tr>\n",
              "      <th>1</th>\n",
              "      <td>1</td>\n",
              "      <td>5.0</td>\n",
              "      <td>30</td>\n",
              "      <td>200000</td>\n",
              "      <td>B</td>\n",
              "    </tr>\n",
              "    <tr>\n",
              "      <th>2</th>\n",
              "      <td>2</td>\n",
              "      <td>10.0</td>\n",
              "      <td>38</td>\n",
              "      <td>150000</td>\n",
              "      <td>AB</td>\n",
              "    </tr>\n",
              "    <tr>\n",
              "      <th>3</th>\n",
              "      <td>1</td>\n",
              "      <td>NaN</td>\n",
              "      <td>36</td>\n",
              "      <td>180000</td>\n",
              "      <td>O</td>\n",
              "    </tr>\n",
              "  </tbody>\n",
              "</table>\n",
              "</div>"
            ],
            "text/plain": [
              "   Number of Kids  Working Experience(years)  Age  Salary Blood Types\n",
              "0               3                       15.0   45  250000           A\n",
              "1               1                        5.0   30  200000           B\n",
              "2               2                       10.0   38  150000          AB\n",
              "3               1                        NaN   36  180000           O"
            ]
          },
          "metadata": {
            "tags": []
          },
          "execution_count": 14
        }
      ]
    },
    {
      "cell_type": "code",
      "metadata": {
        "id": "IQd7M9IJ2GXs",
        "colab": {
          "base_uri": "https://localhost:8080/"
        },
        "outputId": "2ea2fede-a763-4816-f716-008fb01cfd06"
      },
      "source": [
        "data.info()"
      ],
      "execution_count": 15,
      "outputs": [
        {
          "output_type": "stream",
          "text": [
            "<class 'pandas.core.frame.DataFrame'>\n",
            "RangeIndex: 4 entries, 0 to 3\n",
            "Data columns (total 5 columns):\n",
            " #   Column                     Non-Null Count  Dtype  \n",
            "---  ------                     --------------  -----  \n",
            " 0   Number of Kids             4 non-null      int64  \n",
            " 1   Working Experience(years)  3 non-null      float64\n",
            " 2   Age                        4 non-null      int64  \n",
            " 3   Salary                     4 non-null      int64  \n",
            " 4   Blood Types                4 non-null      object \n",
            "dtypes: float64(1), int64(3), object(1)\n",
            "memory usage: 288.0+ bytes\n"
          ],
          "name": "stdout"
        }
      ]
    },
    {
      "cell_type": "markdown",
      "metadata": {
        "id": "JNcHRU8u3ljS"
      },
      "source": [
        "0.4    Filling missing data with median"
      ]
    },
    {
      "cell_type": "code",
      "metadata": {
        "id": "D5WjStdB3nNu"
      },
      "source": [
        " data[\"Working Experience(years)\"].fillna(data[\"Working Experience(years)\"].median(),inplace=True)"
      ],
      "execution_count": 16,
      "outputs": []
    },
    {
      "cell_type": "code",
      "metadata": {
        "id": "QOAUmeVT3qWp",
        "colab": {
          "base_uri": "https://localhost:8080/",
          "height": 173
        },
        "outputId": "be2a919f-badf-4863-e73b-597e7accbe66"
      },
      "source": [
        "data.head()"
      ],
      "execution_count": 17,
      "outputs": [
        {
          "output_type": "execute_result",
          "data": {
            "text/html": [
              "<div>\n",
              "<style scoped>\n",
              "    .dataframe tbody tr th:only-of-type {\n",
              "        vertical-align: middle;\n",
              "    }\n",
              "\n",
              "    .dataframe tbody tr th {\n",
              "        vertical-align: top;\n",
              "    }\n",
              "\n",
              "    .dataframe thead th {\n",
              "        text-align: right;\n",
              "    }\n",
              "</style>\n",
              "<table border=\"1\" class=\"dataframe\">\n",
              "  <thead>\n",
              "    <tr style=\"text-align: right;\">\n",
              "      <th></th>\n",
              "      <th>Number of Kids</th>\n",
              "      <th>Working Experience(years)</th>\n",
              "      <th>Age</th>\n",
              "      <th>Salary</th>\n",
              "      <th>Blood Types</th>\n",
              "    </tr>\n",
              "  </thead>\n",
              "  <tbody>\n",
              "    <tr>\n",
              "      <th>0</th>\n",
              "      <td>3</td>\n",
              "      <td>15.0</td>\n",
              "      <td>45</td>\n",
              "      <td>250000</td>\n",
              "      <td>A</td>\n",
              "    </tr>\n",
              "    <tr>\n",
              "      <th>1</th>\n",
              "      <td>1</td>\n",
              "      <td>5.0</td>\n",
              "      <td>30</td>\n",
              "      <td>200000</td>\n",
              "      <td>B</td>\n",
              "    </tr>\n",
              "    <tr>\n",
              "      <th>2</th>\n",
              "      <td>2</td>\n",
              "      <td>10.0</td>\n",
              "      <td>38</td>\n",
              "      <td>150000</td>\n",
              "      <td>AB</td>\n",
              "    </tr>\n",
              "    <tr>\n",
              "      <th>3</th>\n",
              "      <td>1</td>\n",
              "      <td>10.0</td>\n",
              "      <td>36</td>\n",
              "      <td>180000</td>\n",
              "      <td>O</td>\n",
              "    </tr>\n",
              "  </tbody>\n",
              "</table>\n",
              "</div>"
            ],
            "text/plain": [
              "   Number of Kids  Working Experience(years)  Age  Salary Blood Types\n",
              "0               3                       15.0   45  250000           A\n",
              "1               1                        5.0   30  200000           B\n",
              "2               2                       10.0   38  150000          AB\n",
              "3               1                       10.0   36  180000           O"
            ]
          },
          "metadata": {
            "tags": []
          },
          "execution_count": 17
        }
      ]
    },
    {
      "cell_type": "code",
      "metadata": {
        "id": "si5rGOle3sZ2"
      },
      "source": [
        "data[\"Working Experience(years)\"]=data[\"Working Experience(years)\"].astype(int)"
      ],
      "execution_count": 18,
      "outputs": []
    },
    {
      "cell_type": "code",
      "metadata": {
        "id": "4aqNWCFd3uCt",
        "colab": {
          "base_uri": "https://localhost:8080/",
          "height": 173
        },
        "outputId": "22bb57a4-abed-48f5-ad18-f9b1eb3396eb"
      },
      "source": [
        "data.head()"
      ],
      "execution_count": 19,
      "outputs": [
        {
          "output_type": "execute_result",
          "data": {
            "text/html": [
              "<div>\n",
              "<style scoped>\n",
              "    .dataframe tbody tr th:only-of-type {\n",
              "        vertical-align: middle;\n",
              "    }\n",
              "\n",
              "    .dataframe tbody tr th {\n",
              "        vertical-align: top;\n",
              "    }\n",
              "\n",
              "    .dataframe thead th {\n",
              "        text-align: right;\n",
              "    }\n",
              "</style>\n",
              "<table border=\"1\" class=\"dataframe\">\n",
              "  <thead>\n",
              "    <tr style=\"text-align: right;\">\n",
              "      <th></th>\n",
              "      <th>Number of Kids</th>\n",
              "      <th>Working Experience(years)</th>\n",
              "      <th>Age</th>\n",
              "      <th>Salary</th>\n",
              "      <th>Blood Types</th>\n",
              "    </tr>\n",
              "  </thead>\n",
              "  <tbody>\n",
              "    <tr>\n",
              "      <th>0</th>\n",
              "      <td>3</td>\n",
              "      <td>15</td>\n",
              "      <td>45</td>\n",
              "      <td>250000</td>\n",
              "      <td>A</td>\n",
              "    </tr>\n",
              "    <tr>\n",
              "      <th>1</th>\n",
              "      <td>1</td>\n",
              "      <td>5</td>\n",
              "      <td>30</td>\n",
              "      <td>200000</td>\n",
              "      <td>B</td>\n",
              "    </tr>\n",
              "    <tr>\n",
              "      <th>2</th>\n",
              "      <td>2</td>\n",
              "      <td>10</td>\n",
              "      <td>38</td>\n",
              "      <td>150000</td>\n",
              "      <td>AB</td>\n",
              "    </tr>\n",
              "    <tr>\n",
              "      <th>3</th>\n",
              "      <td>1</td>\n",
              "      <td>10</td>\n",
              "      <td>36</td>\n",
              "      <td>180000</td>\n",
              "      <td>O</td>\n",
              "    </tr>\n",
              "  </tbody>\n",
              "</table>\n",
              "</div>"
            ],
            "text/plain": [
              "   Number of Kids  Working Experience(years)  Age  Salary Blood Types\n",
              "0               3                         15   45  250000           A\n",
              "1               1                          5   30  200000           B\n",
              "2               2                         10   38  150000          AB\n",
              "3               1                         10   36  180000           O"
            ]
          },
          "metadata": {
            "tags": []
          },
          "execution_count": 19
        }
      ]
    },
    {
      "cell_type": "markdown",
      "metadata": {
        "id": "UYduqlk7RnfQ"
      },
      "source": [
        "0.5 Finding Correlation between Number of Kids and Age, Number of Kids and Working  Experience"
      ]
    },
    {
      "cell_type": "code",
      "metadata": {
        "id": "b9TM3oqv3v1N",
        "colab": {
          "base_uri": "https://localhost:8080/"
        },
        "outputId": "8a0a694e-9c5e-4231-8cf8-5453d911ddda"
      },
      "source": [
        "data[\"Number of Kids\"].corr(data[\"Age\"])"
      ],
      "execution_count": 20,
      "outputs": [
        {
          "output_type": "execute_result",
          "data": {
            "text/plain": [
              "0.9147673836616229"
            ]
          },
          "metadata": {
            "tags": []
          },
          "execution_count": 20
        }
      ]
    },
    {
      "cell_type": "code",
      "metadata": {
        "id": "8Z0OlJ5b30Rf",
        "colab": {
          "base_uri": "https://localhost:8080/"
        },
        "outputId": "7e2bd0a5-07a5-4b19-d134-b471826e6683"
      },
      "source": [
        "data[\"Working Experience(years)\"].corr(data[\"Number of Kids\"])"
      ],
      "execution_count": 21,
      "outputs": [
        {
          "output_type": "execute_result",
          "data": {
            "text/plain": [
              "0.8528028654224419"
            ]
          },
          "metadata": {
            "tags": []
          },
          "execution_count": 21
        }
      ]
    },
    {
      "cell_type": "markdown",
      "metadata": {
        "id": "r0dkMvQj36Mx"
      },
      "source": [
        "0.6    One Hot Vectors"
      ]
    },
    {
      "cell_type": "code",
      "metadata": {
        "id": "vdgFhALj38bX",
        "colab": {
          "base_uri": "https://localhost:8080/"
        },
        "outputId": "bccbbf1a-5734-458c-bdb3-601f2e2bcfcb"
      },
      "source": [
        "blood_types_encoded,categories=data[\"Blood Types\"].factorize()\n",
        "blood_types_encoded"
      ],
      "execution_count": 22,
      "outputs": [
        {
          "output_type": "execute_result",
          "data": {
            "text/plain": [
              "array([0, 1, 2, 3])"
            ]
          },
          "metadata": {
            "tags": []
          },
          "execution_count": 22
        }
      ]
    },
    {
      "cell_type": "code",
      "metadata": {
        "id": "N1BhxAr430cn",
        "colab": {
          "base_uri": "https://localhost:8080/"
        },
        "outputId": "e8462cb5-5377-4ddb-b6ea-29be137248e1"
      },
      "source": [
        "from sklearn.preprocessing import OneHotEncoder\n",
        "encoder = OneHotEncoder(sparse=False)\n",
        "blood_type_cat_1hot = encoder.fit_transform(blood_types_encoded.reshape(-1,1))\n",
        "blood_type_cat_1hot"
      ],
      "execution_count": 24,
      "outputs": [
        {
          "output_type": "execute_result",
          "data": {
            "text/plain": [
              "array([[1., 0., 0., 0.],\n",
              "       [0., 1., 0., 0.],\n",
              "       [0., 0., 1., 0.],\n",
              "       [0., 0., 0., 1.]])"
            ]
          },
          "metadata": {
            "tags": []
          },
          "execution_count": 24
        }
      ]
    },
    {
      "cell_type": "code",
      "metadata": {
        "id": "nm7FhtlY4mvj",
        "colab": {
          "base_uri": "https://localhost:8080/",
          "height": 173
        },
        "outputId": "5b78bb2d-bb67-4b3f-8c5f-7257697d520f"
      },
      "source": [
        "data.head()"
      ],
      "execution_count": 25,
      "outputs": [
        {
          "output_type": "execute_result",
          "data": {
            "text/html": [
              "<div>\n",
              "<style scoped>\n",
              "    .dataframe tbody tr th:only-of-type {\n",
              "        vertical-align: middle;\n",
              "    }\n",
              "\n",
              "    .dataframe tbody tr th {\n",
              "        vertical-align: top;\n",
              "    }\n",
              "\n",
              "    .dataframe thead th {\n",
              "        text-align: right;\n",
              "    }\n",
              "</style>\n",
              "<table border=\"1\" class=\"dataframe\">\n",
              "  <thead>\n",
              "    <tr style=\"text-align: right;\">\n",
              "      <th></th>\n",
              "      <th>Number of Kids</th>\n",
              "      <th>Working Experience(years)</th>\n",
              "      <th>Age</th>\n",
              "      <th>Salary</th>\n",
              "      <th>Blood Types</th>\n",
              "    </tr>\n",
              "  </thead>\n",
              "  <tbody>\n",
              "    <tr>\n",
              "      <th>0</th>\n",
              "      <td>3</td>\n",
              "      <td>15</td>\n",
              "      <td>45</td>\n",
              "      <td>250000</td>\n",
              "      <td>A</td>\n",
              "    </tr>\n",
              "    <tr>\n",
              "      <th>1</th>\n",
              "      <td>1</td>\n",
              "      <td>5</td>\n",
              "      <td>30</td>\n",
              "      <td>200000</td>\n",
              "      <td>B</td>\n",
              "    </tr>\n",
              "    <tr>\n",
              "      <th>2</th>\n",
              "      <td>2</td>\n",
              "      <td>10</td>\n",
              "      <td>38</td>\n",
              "      <td>150000</td>\n",
              "      <td>AB</td>\n",
              "    </tr>\n",
              "    <tr>\n",
              "      <th>3</th>\n",
              "      <td>1</td>\n",
              "      <td>10</td>\n",
              "      <td>36</td>\n",
              "      <td>180000</td>\n",
              "      <td>O</td>\n",
              "    </tr>\n",
              "  </tbody>\n",
              "</table>\n",
              "</div>"
            ],
            "text/plain": [
              "   Number of Kids  Working Experience(years)  Age  Salary Blood Types\n",
              "0               3                         15   45  250000           A\n",
              "1               1                          5   30  200000           B\n",
              "2               2                         10   38  150000          AB\n",
              "3               1                         10   36  180000           O"
            ]
          },
          "metadata": {
            "tags": []
          },
          "execution_count": 25
        }
      ]
    },
    {
      "cell_type": "code",
      "metadata": {
        "id": "NKu8OhTn4o7r",
        "colab": {
          "base_uri": "https://localhost:8080/",
          "height": 173
        },
        "outputId": "8b90675a-4b75-4363-ddc8-c271e00bc338"
      },
      "source": [
        "one_hot=pd.get_dummies(data,columns=[\"Blood Types\"],drop_first=False,prefix='',prefix_sep='')\n",
        "one_hot"
      ],
      "execution_count": 26,
      "outputs": [
        {
          "output_type": "execute_result",
          "data": {
            "text/html": [
              "<div>\n",
              "<style scoped>\n",
              "    .dataframe tbody tr th:only-of-type {\n",
              "        vertical-align: middle;\n",
              "    }\n",
              "\n",
              "    .dataframe tbody tr th {\n",
              "        vertical-align: top;\n",
              "    }\n",
              "\n",
              "    .dataframe thead th {\n",
              "        text-align: right;\n",
              "    }\n",
              "</style>\n",
              "<table border=\"1\" class=\"dataframe\">\n",
              "  <thead>\n",
              "    <tr style=\"text-align: right;\">\n",
              "      <th></th>\n",
              "      <th>Number of Kids</th>\n",
              "      <th>Working Experience(years)</th>\n",
              "      <th>Age</th>\n",
              "      <th>Salary</th>\n",
              "      <th>A</th>\n",
              "      <th>AB</th>\n",
              "      <th>B</th>\n",
              "      <th>O</th>\n",
              "    </tr>\n",
              "  </thead>\n",
              "  <tbody>\n",
              "    <tr>\n",
              "      <th>0</th>\n",
              "      <td>3</td>\n",
              "      <td>15</td>\n",
              "      <td>45</td>\n",
              "      <td>250000</td>\n",
              "      <td>1</td>\n",
              "      <td>0</td>\n",
              "      <td>0</td>\n",
              "      <td>0</td>\n",
              "    </tr>\n",
              "    <tr>\n",
              "      <th>1</th>\n",
              "      <td>1</td>\n",
              "      <td>5</td>\n",
              "      <td>30</td>\n",
              "      <td>200000</td>\n",
              "      <td>0</td>\n",
              "      <td>0</td>\n",
              "      <td>1</td>\n",
              "      <td>0</td>\n",
              "    </tr>\n",
              "    <tr>\n",
              "      <th>2</th>\n",
              "      <td>2</td>\n",
              "      <td>10</td>\n",
              "      <td>38</td>\n",
              "      <td>150000</td>\n",
              "      <td>0</td>\n",
              "      <td>1</td>\n",
              "      <td>0</td>\n",
              "      <td>0</td>\n",
              "    </tr>\n",
              "    <tr>\n",
              "      <th>3</th>\n",
              "      <td>1</td>\n",
              "      <td>10</td>\n",
              "      <td>36</td>\n",
              "      <td>180000</td>\n",
              "      <td>0</td>\n",
              "      <td>0</td>\n",
              "      <td>0</td>\n",
              "      <td>1</td>\n",
              "    </tr>\n",
              "  </tbody>\n",
              "</table>\n",
              "</div>"
            ],
            "text/plain": [
              "   Number of Kids  Working Experience(years)  Age  Salary  A  AB  B  O\n",
              "0               3                         15   45  250000  1   0  0  0\n",
              "1               1                          5   30  200000  0   0  1  0\n",
              "2               2                         10   38  150000  0   1  0  0\n",
              "3               1                         10   36  180000  0   0  0  1"
            ]
          },
          "metadata": {
            "tags": []
          },
          "execution_count": 26
        }
      ]
    },
    {
      "cell_type": "code",
      "metadata": {
        "colab": {
          "base_uri": "https://localhost:8080/",
          "height": 173
        },
        "id": "WGq_gBb2STP5",
        "outputId": "e7d65e10-fa1c-4e4f-f24b-beb434cd73e8"
      },
      "source": [
        "data=data.drop(\"Blood Types\",axis=1)\n",
        "data"
      ],
      "execution_count": 27,
      "outputs": [
        {
          "output_type": "execute_result",
          "data": {
            "text/html": [
              "<div>\n",
              "<style scoped>\n",
              "    .dataframe tbody tr th:only-of-type {\n",
              "        vertical-align: middle;\n",
              "    }\n",
              "\n",
              "    .dataframe tbody tr th {\n",
              "        vertical-align: top;\n",
              "    }\n",
              "\n",
              "    .dataframe thead th {\n",
              "        text-align: right;\n",
              "    }\n",
              "</style>\n",
              "<table border=\"1\" class=\"dataframe\">\n",
              "  <thead>\n",
              "    <tr style=\"text-align: right;\">\n",
              "      <th></th>\n",
              "      <th>Number of Kids</th>\n",
              "      <th>Working Experience(years)</th>\n",
              "      <th>Age</th>\n",
              "      <th>Salary</th>\n",
              "    </tr>\n",
              "  </thead>\n",
              "  <tbody>\n",
              "    <tr>\n",
              "      <th>0</th>\n",
              "      <td>3</td>\n",
              "      <td>15</td>\n",
              "      <td>45</td>\n",
              "      <td>250000</td>\n",
              "    </tr>\n",
              "    <tr>\n",
              "      <th>1</th>\n",
              "      <td>1</td>\n",
              "      <td>5</td>\n",
              "      <td>30</td>\n",
              "      <td>200000</td>\n",
              "    </tr>\n",
              "    <tr>\n",
              "      <th>2</th>\n",
              "      <td>2</td>\n",
              "      <td>10</td>\n",
              "      <td>38</td>\n",
              "      <td>150000</td>\n",
              "    </tr>\n",
              "    <tr>\n",
              "      <th>3</th>\n",
              "      <td>1</td>\n",
              "      <td>10</td>\n",
              "      <td>36</td>\n",
              "      <td>180000</td>\n",
              "    </tr>\n",
              "  </tbody>\n",
              "</table>\n",
              "</div>"
            ],
            "text/plain": [
              "   Number of Kids  Working Experience(years)  Age  Salary\n",
              "0               3                         15   45  250000\n",
              "1               1                          5   30  200000\n",
              "2               2                         10   38  150000\n",
              "3               1                         10   36  180000"
            ]
          },
          "metadata": {
            "tags": []
          },
          "execution_count": 27
        }
      ]
    },
    {
      "cell_type": "code",
      "metadata": {
        "id": "No4dplbnSW3t"
      },
      "source": [
        "data=data.join(one_hot[\"A\"])\n",
        "data=data.join(one_hot[\"B\"])\n",
        "data=data.join(one_hot[\"AB\"])\n",
        "data=data.join(one_hot[\"O\"])"
      ],
      "execution_count": 28,
      "outputs": []
    },
    {
      "cell_type": "code",
      "metadata": {
        "colab": {
          "base_uri": "https://localhost:8080/",
          "height": 173
        },
        "id": "wzjFWwBNScMr",
        "outputId": "cc3b6d10-c25e-4340-f52b-ada448349d10"
      },
      "source": [
        "data"
      ],
      "execution_count": 29,
      "outputs": [
        {
          "output_type": "execute_result",
          "data": {
            "text/html": [
              "<div>\n",
              "<style scoped>\n",
              "    .dataframe tbody tr th:only-of-type {\n",
              "        vertical-align: middle;\n",
              "    }\n",
              "\n",
              "    .dataframe tbody tr th {\n",
              "        vertical-align: top;\n",
              "    }\n",
              "\n",
              "    .dataframe thead th {\n",
              "        text-align: right;\n",
              "    }\n",
              "</style>\n",
              "<table border=\"1\" class=\"dataframe\">\n",
              "  <thead>\n",
              "    <tr style=\"text-align: right;\">\n",
              "      <th></th>\n",
              "      <th>Number of Kids</th>\n",
              "      <th>Working Experience(years)</th>\n",
              "      <th>Age</th>\n",
              "      <th>Salary</th>\n",
              "      <th>A</th>\n",
              "      <th>B</th>\n",
              "      <th>AB</th>\n",
              "      <th>O</th>\n",
              "    </tr>\n",
              "  </thead>\n",
              "  <tbody>\n",
              "    <tr>\n",
              "      <th>0</th>\n",
              "      <td>3</td>\n",
              "      <td>15</td>\n",
              "      <td>45</td>\n",
              "      <td>250000</td>\n",
              "      <td>1</td>\n",
              "      <td>0</td>\n",
              "      <td>0</td>\n",
              "      <td>0</td>\n",
              "    </tr>\n",
              "    <tr>\n",
              "      <th>1</th>\n",
              "      <td>1</td>\n",
              "      <td>5</td>\n",
              "      <td>30</td>\n",
              "      <td>200000</td>\n",
              "      <td>0</td>\n",
              "      <td>1</td>\n",
              "      <td>0</td>\n",
              "      <td>0</td>\n",
              "    </tr>\n",
              "    <tr>\n",
              "      <th>2</th>\n",
              "      <td>2</td>\n",
              "      <td>10</td>\n",
              "      <td>38</td>\n",
              "      <td>150000</td>\n",
              "      <td>0</td>\n",
              "      <td>0</td>\n",
              "      <td>1</td>\n",
              "      <td>0</td>\n",
              "    </tr>\n",
              "    <tr>\n",
              "      <th>3</th>\n",
              "      <td>1</td>\n",
              "      <td>10</td>\n",
              "      <td>36</td>\n",
              "      <td>180000</td>\n",
              "      <td>0</td>\n",
              "      <td>0</td>\n",
              "      <td>0</td>\n",
              "      <td>1</td>\n",
              "    </tr>\n",
              "  </tbody>\n",
              "</table>\n",
              "</div>"
            ],
            "text/plain": [
              "   Number of Kids  Working Experience(years)  Age  Salary  A  B  AB  O\n",
              "0               3                         15   45  250000  1  0   0  0\n",
              "1               1                          5   30  200000  0  1   0  0\n",
              "2               2                         10   38  150000  0  0   1  0\n",
              "3               1                         10   36  180000  0  0   0  1"
            ]
          },
          "metadata": {
            "tags": []
          },
          "execution_count": 29
        }
      ]
    },
    {
      "cell_type": "markdown",
      "metadata": {
        "id": "nSWhlgP2SfJQ"
      },
      "source": [
        "0.7 Scaling the data"
      ]
    },
    {
      "cell_type": "code",
      "metadata": {
        "id": "Xfl1tl7PShlh"
      },
      "source": [
        "from sklearn.preprocessing import StandardScaler"
      ],
      "execution_count": 30,
      "outputs": []
    },
    {
      "cell_type": "code",
      "metadata": {
        "id": "1Y9Lv-O1SksW"
      },
      "source": [
        "scaler = StandardScaler()\n",
        "data_scaled = pd.DataFrame(scaler.fit_transform(data),columns=\n",
        "    [\"Number of Kids\",\"Working Experience(years)\",\"Age\",\n",
        "     \"Salary\",\"Blood Type A\",\"Blood Type B\",\"Blood Type AB\",\n",
        "     \"Blood Type O\"])"
      ],
      "execution_count": 31,
      "outputs": []
    },
    {
      "cell_type": "code",
      "metadata": {
        "colab": {
          "base_uri": "https://localhost:8080/",
          "height": 173
        },
        "id": "pIqyIqiDSsSo",
        "outputId": "f405b053-a9f5-4ed8-9d14-7ca185c50bc6"
      },
      "source": [
        "data_scaled"
      ],
      "execution_count": 32,
      "outputs": [
        {
          "output_type": "execute_result",
          "data": {
            "text/html": [
              "<div>\n",
              "<style scoped>\n",
              "    .dataframe tbody tr th:only-of-type {\n",
              "        vertical-align: middle;\n",
              "    }\n",
              "\n",
              "    .dataframe tbody tr th {\n",
              "        vertical-align: top;\n",
              "    }\n",
              "\n",
              "    .dataframe thead th {\n",
              "        text-align: right;\n",
              "    }\n",
              "</style>\n",
              "<table border=\"1\" class=\"dataframe\">\n",
              "  <thead>\n",
              "    <tr style=\"text-align: right;\">\n",
              "      <th></th>\n",
              "      <th>Number of Kids</th>\n",
              "      <th>Working Experience(years)</th>\n",
              "      <th>Age</th>\n",
              "      <th>Salary</th>\n",
              "      <th>Blood Type A</th>\n",
              "      <th>Blood Type B</th>\n",
              "      <th>Blood Type AB</th>\n",
              "      <th>Blood Type O</th>\n",
              "    </tr>\n",
              "  </thead>\n",
              "  <tbody>\n",
              "    <tr>\n",
              "      <th>0</th>\n",
              "      <td>1.507557</td>\n",
              "      <td>1.414214</td>\n",
              "      <td>1.446956</td>\n",
              "      <td>1.510966</td>\n",
              "      <td>1.732051</td>\n",
              "      <td>-0.577350</td>\n",
              "      <td>-0.577350</td>\n",
              "      <td>-0.577350</td>\n",
              "    </tr>\n",
              "    <tr>\n",
              "      <th>1</th>\n",
              "      <td>-0.904534</td>\n",
              "      <td>-1.414214</td>\n",
              "      <td>-1.353604</td>\n",
              "      <td>0.137361</td>\n",
              "      <td>-0.577350</td>\n",
              "      <td>1.732051</td>\n",
              "      <td>-0.577350</td>\n",
              "      <td>-0.577350</td>\n",
              "    </tr>\n",
              "    <tr>\n",
              "      <th>2</th>\n",
              "      <td>0.301511</td>\n",
              "      <td>0.000000</td>\n",
              "      <td>0.140028</td>\n",
              "      <td>-1.236245</td>\n",
              "      <td>-0.577350</td>\n",
              "      <td>-0.577350</td>\n",
              "      <td>1.732051</td>\n",
              "      <td>-0.577350</td>\n",
              "    </tr>\n",
              "    <tr>\n",
              "      <th>3</th>\n",
              "      <td>-0.904534</td>\n",
              "      <td>0.000000</td>\n",
              "      <td>-0.233380</td>\n",
              "      <td>-0.412082</td>\n",
              "      <td>-0.577350</td>\n",
              "      <td>-0.577350</td>\n",
              "      <td>-0.577350</td>\n",
              "      <td>1.732051</td>\n",
              "    </tr>\n",
              "  </tbody>\n",
              "</table>\n",
              "</div>"
            ],
            "text/plain": [
              "   Number of Kids  Working Experience(years)  ...  Blood Type AB  Blood Type O\n",
              "0        1.507557                   1.414214  ...      -0.577350     -0.577350\n",
              "1       -0.904534                  -1.414214  ...      -0.577350     -0.577350\n",
              "2        0.301511                   0.000000  ...       1.732051     -0.577350\n",
              "3       -0.904534                   0.000000  ...      -0.577350      1.732051\n",
              "\n",
              "[4 rows x 8 columns]"
            ]
          },
          "metadata": {
            "tags": []
          },
          "execution_count": 32
        }
      ]
    },
    {
      "cell_type": "code",
      "metadata": {
        "colab": {
          "base_uri": "https://localhost:8080/",
          "height": 173
        },
        "id": "9M3iW8G4SxWV",
        "outputId": "a32a7145-7e16-433d-9fd1-b54723344236"
      },
      "source": [
        "data_scaled.round(decimals=2)"
      ],
      "execution_count": 33,
      "outputs": [
        {
          "output_type": "execute_result",
          "data": {
            "text/html": [
              "<div>\n",
              "<style scoped>\n",
              "    .dataframe tbody tr th:only-of-type {\n",
              "        vertical-align: middle;\n",
              "    }\n",
              "\n",
              "    .dataframe tbody tr th {\n",
              "        vertical-align: top;\n",
              "    }\n",
              "\n",
              "    .dataframe thead th {\n",
              "        text-align: right;\n",
              "    }\n",
              "</style>\n",
              "<table border=\"1\" class=\"dataframe\">\n",
              "  <thead>\n",
              "    <tr style=\"text-align: right;\">\n",
              "      <th></th>\n",
              "      <th>Number of Kids</th>\n",
              "      <th>Working Experience(years)</th>\n",
              "      <th>Age</th>\n",
              "      <th>Salary</th>\n",
              "      <th>Blood Type A</th>\n",
              "      <th>Blood Type B</th>\n",
              "      <th>Blood Type AB</th>\n",
              "      <th>Blood Type O</th>\n",
              "    </tr>\n",
              "  </thead>\n",
              "  <tbody>\n",
              "    <tr>\n",
              "      <th>0</th>\n",
              "      <td>1.51</td>\n",
              "      <td>1.41</td>\n",
              "      <td>1.45</td>\n",
              "      <td>1.51</td>\n",
              "      <td>1.73</td>\n",
              "      <td>-0.58</td>\n",
              "      <td>-0.58</td>\n",
              "      <td>-0.58</td>\n",
              "    </tr>\n",
              "    <tr>\n",
              "      <th>1</th>\n",
              "      <td>-0.90</td>\n",
              "      <td>-1.41</td>\n",
              "      <td>-1.35</td>\n",
              "      <td>0.14</td>\n",
              "      <td>-0.58</td>\n",
              "      <td>1.73</td>\n",
              "      <td>-0.58</td>\n",
              "      <td>-0.58</td>\n",
              "    </tr>\n",
              "    <tr>\n",
              "      <th>2</th>\n",
              "      <td>0.30</td>\n",
              "      <td>0.00</td>\n",
              "      <td>0.14</td>\n",
              "      <td>-1.24</td>\n",
              "      <td>-0.58</td>\n",
              "      <td>-0.58</td>\n",
              "      <td>1.73</td>\n",
              "      <td>-0.58</td>\n",
              "    </tr>\n",
              "    <tr>\n",
              "      <th>3</th>\n",
              "      <td>-0.90</td>\n",
              "      <td>0.00</td>\n",
              "      <td>-0.23</td>\n",
              "      <td>-0.41</td>\n",
              "      <td>-0.58</td>\n",
              "      <td>-0.58</td>\n",
              "      <td>-0.58</td>\n",
              "      <td>1.73</td>\n",
              "    </tr>\n",
              "  </tbody>\n",
              "</table>\n",
              "</div>"
            ],
            "text/plain": [
              "   Number of Kids  Working Experience(years)  ...  Blood Type AB  Blood Type O\n",
              "0            1.51                       1.41  ...          -0.58         -0.58\n",
              "1           -0.90                      -1.41  ...          -0.58         -0.58\n",
              "2            0.30                       0.00  ...           1.73         -0.58\n",
              "3           -0.90                       0.00  ...          -0.58          1.73\n",
              "\n",
              "[4 rows x 8 columns]"
            ]
          },
          "metadata": {
            "tags": []
          },
          "execution_count": 33
        }
      ]
    }
  ]
}